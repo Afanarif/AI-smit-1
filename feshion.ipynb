{
  "cells": [
    {
      "cell_type": "markdown",
      "metadata": {
        "id": "view-in-github",
        "colab_type": "text"
      },
      "source": [
        "<a href=\"https://colab.research.google.com/github/Afanarif/AI-smit-1/blob/main/feshion.ipynb\" target=\"_parent\"><img src=\"https://colab.research.google.com/assets/colab-badge.svg\" alt=\"Open In Colab\"/></a>"
      ]
    },
    {
      "cell_type": "code",
      "execution_count": null,
      "id": "0b69c69d",
      "metadata": {
        "id": "0b69c69d"
      },
      "outputs": [],
      "source": [
        "from tensorflow.keras.datasets import fashion_mnist\n",
        "\n",
        "(train_images, train_labels), (test_images, test_labels) = fashion_mnist.load_data()"
      ]
    },
    {
      "cell_type": "code",
      "execution_count": null,
      "id": "927919f8",
      "metadata": {
        "id": "927919f8",
        "outputId": "3c2829bf-a0e9-465e-b2a6-00e17c530c8b"
      },
      "outputs": [
        {
          "name": "stdout",
          "output_type": "stream",
          "text": [
            "60000\n",
            "60000\n"
          ]
        }
      ],
      "source": [
        "print(len(train_images))\n",
        "print(len(train_labels))"
      ]
    },
    {
      "cell_type": "code",
      "execution_count": null,
      "id": "f3cc35ce",
      "metadata": {
        "id": "f3cc35ce",
        "outputId": "14003ca3-81b0-4582-92a2-0f077d6609e1"
      },
      "outputs": [
        {
          "name": "stdout",
          "output_type": "stream",
          "text": [
            "10000\n",
            "10000\n"
          ]
        }
      ],
      "source": [
        "print(len(test_images))\n",
        "print(len(test_labels))"
      ]
    },
    {
      "cell_type": "code",
      "execution_count": null,
      "id": "f09d38f8",
      "metadata": {
        "id": "f09d38f8",
        "outputId": "9e338925-3766-4710-9e70-71a4d4aa1179"
      },
      "outputs": [
        {
          "name": "stdout",
          "output_type": "stream",
          "text": [
            "(10000, 28, 28)\n"
          ]
        },
        {
          "data": {
            "text/plain": [
              "(60000, 28, 28)"
            ]
          },
          "execution_count": 26,
          "metadata": {},
          "output_type": "execute_result"
        }
      ],
      "source": [
        "print(test_images.shape)\n",
        "train_images.shape"
      ]
    },
    {
      "cell_type": "code",
      "execution_count": null,
      "id": "d41a1acd",
      "metadata": {
        "id": "d41a1acd",
        "outputId": "2cb6637e-0ad8-41a5-ce23-0d13bddf9a8f"
      },
      "outputs": [
        {
          "name": "stdout",
          "output_type": "stream",
          "text": [
            "Class Label: 9\n"
          ]
        },
        {
          "data": {
            "image/png": "[encoded data removed]",
            "text/plain": [
              "<Figure size 640x480 with 1 Axes>"
            ]
          },
          "metadata": {},
          "output_type": "display_data"
        }
      ],
      "source": [
        "import matplotlib.pyplot as plt\n",
        "\n",
        "index = 0\n",
        "\n",
        "digit = train_images[index]\n",
        "print(\"Class Label:\",train_labels[index])\n",
        "#digit.shape\n",
        "\n",
        "plt.imshow(digit, cmap=plt.cm.binary)\n",
        "plt.show()"
      ]
    },
    {
      "cell_type": "code",
      "execution_count": null,
      "id": "672bff05",
      "metadata": {
        "id": "672bff05",
        "outputId": "2dee44b7-33d7-44d8-c432-47a7aa43fd2d"
      },
      "outputs": [
        {
          "name": "stdout",
          "output_type": "stream",
          "text": [
            "[9 0 0 ... 3 0 5]\n",
            "60000\n",
            "[0 1 2 3 4 5 6 7 8 9]\n"
          ]
        }
      ],
      "source": [
        "import numpy as np\n",
        "print(train_labels)\n",
        "print(len(train_labels))\n",
        "print(np.unique(train_labels))"
      ]
    },
    {
      "cell_type": "code",
      "execution_count": null,
      "id": "f64bb5f8",
      "metadata": {
        "id": "f64bb5f8",
        "outputId": "09cc1ffe-8d74-4fae-8981-96705101e168"
      },
      "outputs": [
        {
          "name": "stdout",
          "output_type": "stream",
          "text": [
            "[9 2 1 ... 8 1 5]\n",
            "10000\n",
            "[0 1 2 3 4 5 6 7 8 9]\n"
          ]
        }
      ],
      "source": [
        "print(test_labels)\n",
        "print(len(test_labels))\n",
        "print(np.unique(test_labels))"
      ]
    },
    {
      "cell_type": "code",
      "execution_count": null,
      "id": "a04ea93e",
      "metadata": {
        "id": "a04ea93e",
        "outputId": "7d511027-3a97-486b-ed52-e8e0b825a751"
      },
      "outputs": [
        {
          "data": {
            "text/plain": [
              "(28, 28)"
            ]
          },
          "execution_count": 30,
          "metadata": {},
          "output_type": "execute_result"
        }
      ],
      "source": [
        "digit.shape\n"
      ]
    },
    {
      "cell_type": "code",
      "execution_count": null,
      "id": "0b535462",
      "metadata": {
        "id": "0b535462",
        "outputId": "f35039a1-5713-46c1-d41b-f355e4f0ceec"
      },
      "outputs": [
        {
          "name": "stdout",
          "output_type": "stream",
          "text": [
            "Class Label: 9\n"
          ]
        },
        {
          "data": {
            "image/png": "[encoded data removed]",
            "text/plain": [
              "<Figure size 640x480 with 1 Axes>"
            ]
          },
          "metadata": {},
          "output_type": "display_data"
        }
      ],
      "source": [
        "digit = test_images[0]\n",
        "print(\"Class Label:\",test_labels[0])\n",
        "#digit.shape\n",
        "\n",
        "plt.imshow(digit, cmap=plt.cm.binary)\n",
        "plt.show()"
      ]
    },
    {
      "cell_type": "code",
      "execution_count": null,
      "id": "02bdfab2",
      "metadata": {
        "id": "02bdfab2"
      },
      "outputs": [],
      "source": [
        "from tensorflow.keras import models\n",
        "from tensorflow.keras import layers\n",
        "\n",
        "network = models.Sequential()\n",
        "network.add(layers.Dense(512, activation='relu', input_shape=(28*28,)))\n",
        "network.add(layers.Dense(10, activation='softmax'))\n"
      ]
    },
    {
      "cell_type": "code",
      "execution_count": null,
      "id": "edef73ef",
      "metadata": {
        "id": "edef73ef"
      },
      "outputs": [],
      "source": [
        "network.compile(optimizer='Adagrad',\n",
        "                loss='categorical_crossentropy',\n",
        "                metrics=['accuracy'])\n"
      ]
    },
    {
      "cell_type": "code",
      "execution_count": null,
      "id": "380df975",
      "metadata": {
        "id": "380df975"
      },
      "outputs": [],
      "source": [
        "train_images = train_images.reshape((60000, 28*28))\n",
        "train_images = train_images.astype('float32') / 255 #Normalization\n",
        "\n",
        "\n",
        "test_images = test_images.reshape((10000, 28 * 28))\n",
        "test_images = test_images.astype('float32') / 255 #Normalization"
      ]
    },
    {
      "cell_type": "code",
      "execution_count": null,
      "id": "9055d882",
      "metadata": {
        "id": "9055d882",
        "outputId": "97adaad0-21b7-4b29-fa0e-7ade2f306d13"
      },
      "outputs": [
        {
          "name": "stdout",
          "output_type": "stream",
          "text": [
            "(60000, 784)\n",
            "(10000, 784)\n"
          ]
        }
      ],
      "source": [
        "print(train_images.shape)\n",
        "print(test_images.shape)"
      ]
    },
    {
      "cell_type": "code",
      "execution_count": null,
      "id": "b49b587d",
      "metadata": {
        "id": "b49b587d",
        "outputId": "81e30fbf-e5a3-4ae8-e001-d7c4bf1ff4e8"
      },
      "outputs": [
        {
          "name": "stdout",
          "output_type": "stream",
          "text": [
            "Class Label: 9\n"
          ]
        },
        {
          "data": {
            "image/png": "[encoded data removed]",
            "text/plain": [
              "<Figure size 640x480 with 1 Axes>"
            ]
          },
          "metadata": {},
          "output_type": "display_data"
        }
      ],
      "source": [
        "\n",
        "digit = train_images[0]\n",
        "print(\"Class Label:\",train_labels[0])\n",
        "#digit.shape\n",
        "\n",
        "plt.imshow([digit])\n",
        "plt.show()"
      ]
    },
    {
      "cell_type": "code",
      "execution_count": null,
      "id": "eb1c8b9b",
      "metadata": {
        "id": "eb1c8b9b",
        "outputId": "25c0c83c-74cb-4cb1-f3f1-0bc8a3969fe1"
      },
      "outputs": [
        {
          "data": {
            "text/plain": [
              "9"
            ]
          },
          "execution_count": 37,
          "metadata": {},
          "output_type": "execute_result"
        }
      ],
      "source": [
        "train_labels[0]\n"
      ]
    },
    {
      "cell_type": "code",
      "execution_count": null,
      "id": "deb19241",
      "metadata": {
        "id": "deb19241"
      },
      "outputs": [],
      "source": [
        "from tensorflow.keras.utils import to_categorical\n",
        "\n",
        "train_labels = to_categorical(train_labels)\n",
        "test_labels = to_categorical(test_labels)"
      ]
    },
    {
      "cell_type": "code",
      "execution_count": null,
      "id": "20e69edd",
      "metadata": {
        "id": "20e69edd",
        "outputId": "8dc26d3a-cf03-4b63-f21d-b21e05348319"
      },
      "outputs": [
        {
          "data": {
            "text/plain": [
              "array([0., 0., 0., 0., 0., 0., 0., 0., 0., 1.], dtype=float32)"
            ]
          },
          "execution_count": 39,
          "metadata": {},
          "output_type": "execute_result"
        }
      ],
      "source": [
        "train_labels[0]\n"
      ]
    },
    {
      "cell_type": "code",
      "execution_count": null,
      "id": "dfacfef4",
      "metadata": {
        "id": "dfacfef4",
        "outputId": "2531d475-f095-49e6-d37f-a77a4e692526"
      },
      "outputs": [
        {
          "name": "stdout",
          "output_type": "stream",
          "text": [
            "Epoch 1/5\n",
            "469/469 [==============================] - 5s 10ms/step - loss: 1.4351 - accuracy: 0.5996\n",
            "Epoch 2/5\n",
            "469/469 [==============================] - 5s 11ms/step - loss: 0.9269 - accuracy: 0.7115\n",
            "Epoch 3/5\n",
            "469/469 [==============================] - 5s 11ms/step - loss: 0.7981 - accuracy: 0.7473\n",
            "Epoch 4/5\n",
            "469/469 [==============================] - 4s 9ms/step - loss: 0.7302 - accuracy: 0.7701\n",
            "Epoch 5/5\n",
            "469/469 [==============================] - 5s 11ms/step - loss: 0.6856 - accuracy: 0.7834\n"
          ]
        },
        {
          "data": {
            "text/plain": [
              "<keras.src.callbacks.History at 0x1cf8395b250>"
            ]
          },
          "execution_count": 40,
          "metadata": {},
          "output_type": "execute_result"
        }
      ],
      "source": [
        "network.fit(train_images, train_labels, epochs=5, batch_size=128)"
      ]
    },
    {
      "cell_type": "code",
      "execution_count": null,
      "id": "7fbb5986",
      "metadata": {
        "id": "7fbb5986",
        "outputId": "20fb9467-f5d5-47b8-d81f-2a5e24a99ee6"
      },
      "outputs": [
        {
          "name": "stdout",
          "output_type": "stream",
          "text": [
            "313/313 [==============================] - 2s 4ms/step - loss: 0.6859 - accuracy: 0.7739\n",
            "test_acc: 0.7738999724388123\n"
          ]
        }
      ],
      "source": [
        "test_loss, test_acc = network.evaluate(test_images, test_labels)\n",
        "print('test_acc:', test_acc)"
      ]
    },
    {
      "cell_type": "code",
      "execution_count": null,
      "id": "f07e2aba",
      "metadata": {
        "id": "f07e2aba",
        "outputId": "b965fbd9-ed73-438f-badd-0b308bcc6094"
      },
      "outputs": [
        {
          "name": "stdout",
          "output_type": "stream",
          "text": [
            "313/313 [==============================] - 1s 4ms/step\n"
          ]
        }
      ],
      "source": [
        "p = network.predict(test_images)"
      ]
    },
    {
      "cell_type": "code",
      "execution_count": null,
      "id": "57452c72",
      "metadata": {
        "id": "57452c72",
        "outputId": "2f55bb56-ef7b-4653-d30f-38ef50f261d4"
      },
      "outputs": [
        {
          "data": {
            "text/plain": [
              "array([1.0991313e-03, 5.4999062e-05, 8.7522244e-01, 1.8991795e-04,\n",
              "       2.7171846e-02, 2.7827083e-04, 9.4966203e-02, 8.5140318e-06,\n",
              "       7.2659930e-04, 2.8212217e-04], dtype=float32)"
            ]
          },
          "execution_count": 43,
          "metadata": {},
          "output_type": "execute_result"
        }
      ],
      "source": [
        "p[1]"
      ]
    },
    {
      "cell_type": "code",
      "execution_count": null,
      "id": "ce26e397",
      "metadata": {
        "id": "ce26e397",
        "outputId": "c3cf2d91-93ea-496e-e86c-1d386a17b10d"
      },
      "outputs": [
        {
          "data": {
            "text/plain": [
              "2"
            ]
          },
          "execution_count": 44,
          "metadata": {},
          "output_type": "execute_result"
        }
      ],
      "source": [
        "import numpy as np\n",
        "np.argmax(p[1])"
      ]
    },
    {
      "cell_type": "code",
      "execution_count": null,
      "id": "b6a06671",
      "metadata": {
        "id": "b6a06671"
      },
      "outputs": [],
      "source": []
    }
  ],
  "metadata": {
    "kernelspec": {
      "display_name": "Python 3 (ipykernel)",
      "language": "python",
      "name": "python3"
    },
    "language_info": {
      "codemirror_mode": {
        "name": "ipython",
        "version": 3
      },
      "file_extension": ".py",
      "mimetype": "text/x-python",
      "name": "python",
      "nbconvert_exporter": "python",
      "pygments_lexer": "ipython3",
      "version": "3.11.3"
    },
    "colab": {
      "provenance": [],
      "include_colab_link": true
    }
  },
  "nbformat": 4,
  "nbformat_minor": 5
}