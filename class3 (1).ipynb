{
 "cells": [
  {
   "cell_type": "code",
   "execution_count": 5,
   "id": "f7d56159",
   "metadata": {},
   "outputs": [
    {
     "name": "stdout",
     "output_type": "stream",
     "text": [
      "affanarif\n"
     ]
    }
   ],
   "source": [
    "name = \"affan arif\"\n",
    "print(name)"
   ]
  },
  {
   "cell_type": "markdown",
   "id": "3b4af703",
   "metadata": {},
   "source": [
    "*capitalize*\n",
    "capitalize letter according to english grammer rule\n",
    "\n"
   ]
  },
  {
   "cell_type": "code",
   "execution_count": 6,
   "id": "b109fbad",
   "metadata": {},
   "outputs": [
    {
     "name": "stdout",
     "output_type": "stream",
     "text": [
      "Affanarif\n"
     ]
    }
   ],
   "source": [
    "print(name.capitalize())"
   ]
  },
  {
   "cell_type": "markdown",
   "id": "2ea15f2f",
   "metadata": {},
   "source": [
    "*casefold*\n",
    "convert the whole string in lower case"
   ]
  },
  {
   "cell_type": "code",
   "execution_count": 12,
   "id": "cefb6751",
   "metadata": {},
   "outputs": [
    {
     "name": "stdout",
     "output_type": "stream",
     "text": [
      "affanarif\n"
     ]
    }
   ],
   "source": [
    "print(name.casefold())"
   ]
  },
  {
   "cell_type": "markdown",
   "id": "e2b8dbcb",
   "metadata": {},
   "source": [
    "*center*\n",
    "alligns string to the center by filling paddings to the left and right to the string"
   ]
  },
  {
   "cell_type": "code",
   "execution_count": 15,
   "id": "49861d93",
   "metadata": {},
   "outputs": [
    {
     "name": "stdout",
     "output_type": "stream",
     "text": [
      "                    affanarif                     \n"
     ]
    }
   ],
   "source": [
    "name1 = name.center(50,' ')\n",
    "print(name1)"
   ]
  },
  {
   "cell_type": "markdown",
   "id": "0f69a9a1",
   "metadata": {},
   "source": [
    "*count*\n",
    "returns the number of elements with the specified value."
   ]
  },
  {
   "cell_type": "code",
   "execution_count": 16,
   "id": "97f179f5",
   "metadata": {},
   "outputs": [
    {
     "name": "stdout",
     "output_type": "stream",
     "text": [
      "3\n"
     ]
    }
   ],
   "source": [
    "a=name.count(\"f\")\n",
    "print(a)"
   ]
  },
  {
   "cell_type": "markdown",
   "id": "7423c406",
   "metadata": {},
   "source": [
    "*encode*\n",
    "encodes the string, using the specified encoding. If no encoding is specified, UTF-8 will be used."
   ]
  },
  {
   "cell_type": "code",
   "execution_count": 18,
   "id": "4f8fa7ce",
   "metadata": {},
   "outputs": [
    {
     "name": "stdout",
     "output_type": "stream",
     "text": [
      "b'affanarif'\n"
     ]
    }
   ],
   "source": [
    "b=name.encode()\n",
    "print(b)"
   ]
  },
  {
   "cell_type": "code",
   "execution_count": 25,
   "id": "c0dd7744",
   "metadata": {},
   "outputs": [
    {
     "name": "stdout",
     "output_type": "stream",
     "text": [
      "b'i m Aff\\xc3\\xa5n'\n"
     ]
    }
   ],
   "source": [
    "txt = \"i m Affån\"\n",
    "\n",
    "x = txt.encode()\n",
    "\n",
    "print(x)"
   ]
  },
  {
   "cell_type": "markdown",
   "id": "55b2412e",
   "metadata": {},
   "source": [
    "*endswith*\n",
    "method returns True if the string ends with the specified value, otherwise False."
   ]
  },
  {
   "cell_type": "code",
   "execution_count": 29,
   "id": "151cb767",
   "metadata": {},
   "outputs": [
    {
     "name": "stdout",
     "output_type": "stream",
     "text": [
      "affanarif\n",
      "False\n",
      "True\n"
     ]
    }
   ],
   "source": [
    "print(name)\n",
    "a=name.endswith(\"n\")\n",
    "print(a)\n",
    "\n",
    "a=name.endswith(\"f\")\n",
    "print(a)"
   ]
  },
  {
   "cell_type": "markdown",
   "id": "78faa197",
   "metadata": {},
   "source": [
    "*expandtabs*\n",
    "method sets the tab size to the specified number of whitespaces.\n"
   ]
  },
  {
   "cell_type": "code",
   "execution_count": 34,
   "id": "e34b94ef",
   "metadata": {},
   "outputs": [
    {
     "name": "stdout",
     "output_type": "stream",
     "text": [
      "i  m  affan\n"
     ]
    }
   ],
   "source": [
    "txt=\"i\\tm\\taffan\"\n",
    "d=txt.expandtabs(3)\n",
    "print(d)"
   ]
  },
  {
   "cell_type": "code",
   "execution_count": 35,
   "id": "2eb84916",
   "metadata": {},
   "outputs": [
    {
     "name": "stdout",
     "output_type": "stream",
     "text": [
      "5\n"
     ]
    }
   ],
   "source": [
    "d= txt.find(\"f\")\n",
    "print(d)"
   ]
  },
  {
   "cell_type": "code",
   "execution_count": 36,
   "id": "7061dd93",
   "metadata": {},
   "outputs": [
    {
     "name": "stdout",
     "output_type": "stream",
     "text": [
      "1\n"
     ]
    }
   ],
   "source": [
    "d= name.find(\"f\")\n",
    "print(d)"
   ]
  },
  {
   "cell_type": "code",
   "execution_count": null,
   "id": "13069185",
   "metadata": {},
   "outputs": [],
   "source": [
    "*index*\n"
   ]
  },
  {
   "cell_type": "code",
   "execution_count": 37,
   "id": "5085c76e",
   "metadata": {},
   "outputs": [
    {
     "name": "stdout",
     "output_type": "stream",
     "text": [
      "5\n",
      "1\n"
     ]
    }
   ],
   "source": [
    "d= txt.index(\"f\")\n",
    "print(d)\n",
    "\n",
    "d= name.index(\"f\")\n",
    "print(d)"
   ]
  },
  {
   "cell_type": "markdown",
   "id": "101ce4bf",
   "metadata": {},
   "source": [
    "#find()# method is almost the same as the #index()# method, the only difference is that the #index()# \n",
    "method raises an exception if the value is not found"
   ]
  },
  {
   "cell_type": "code",
   "execution_count": 39,
   "id": "f528643e",
   "metadata": {},
   "outputs": [
    {
     "name": "stdout",
     "output_type": "stream",
     "text": [
      "-1\n"
     ]
    }
   ],
   "source": [
    "d= name.find(\"x\")\n",
    "print(d)\n",
    "\n"
   ]
  },
  {
   "cell_type": "code",
   "execution_count": 40,
   "id": "dfb8b998",
   "metadata": {},
   "outputs": [
    {
     "ename": "ValueError",
     "evalue": "substring not found",
     "output_type": "error",
     "traceback": [
      "\u001b[1;31m---------------------------------------------------------------------------\u001b[0m",
      "\u001b[1;31mValueError\u001b[0m                                Traceback (most recent call last)",
      "\u001b[1;32m~\\AppData\\Local\\Temp\\ipykernel_5512\\3617860158.py\u001b[0m in \u001b[0;36m<module>\u001b[1;34m\u001b[0m\n\u001b[1;32m----> 1\u001b[1;33m \u001b[0md\u001b[0m\u001b[1;33m=\u001b[0m \u001b[0mname\u001b[0m\u001b[1;33m.\u001b[0m\u001b[0mindex\u001b[0m\u001b[1;33m(\u001b[0m\u001b[1;34m\"x\"\u001b[0m\u001b[1;33m)\u001b[0m\u001b[1;33m\u001b[0m\u001b[1;33m\u001b[0m\u001b[0m\n\u001b[0m\u001b[0;32m      2\u001b[0m \u001b[0mprint\u001b[0m\u001b[1;33m(\u001b[0m\u001b[0md\u001b[0m\u001b[1;33m)\u001b[0m\u001b[1;33m\u001b[0m\u001b[1;33m\u001b[0m\u001b[0m\n",
      "\u001b[1;31mValueError\u001b[0m: substring not found"
     ]
    }
   ],
   "source": [
    "d= name.index(\"x\")\n",
    "print(d)"
   ]
  },
  {
   "cell_type": "markdown",
   "id": "0f93aedc",
   "metadata": {},
   "source": [
    "format and with f\n",
    "method returns the formatted string"
   ]
  },
  {
   "cell_type": "code",
   "execution_count": 50,
   "id": "16467080",
   "metadata": {},
   "outputs": [
    {
     "name": "stdout",
     "output_type": "stream",
     "text": [
      "My Name is affanarif\n",
      "My name is affanarif\n"
     ]
    }
   ],
   "source": [
    "\n",
    "txt2 = f\"My Name is {name}\"\n",
    "print(txt2)\n",
    "\n",
    "txt3 = \"My name is {}\".format(name)\n",
    "print(txt3)"
   ]
  },
  {
   "cell_type": "markdown",
   "id": "bcb1beb4",
   "metadata": {},
   "source": [
    "*isalnum*\n",
    "returns True if its made of alphanumeric characters only\n",
    "*isalpha*\n",
    "returns True if all the characters are alphabet letters (a-z).\n",
    "*isascii*\n",
    "returns True if all the characters are ascii characters (a-z).\n",
    "*isdecimal*\n",
    "returns True if all the characters are decimals (0-9)\n",
    "*isdigit*\n",
    "returns True if all the characters are digits, otherwise False.\n",
    "*isidentifier*\n",
    "method returns True if the string is a valid identifier, otherwise False\n",
    "A string is considered a valid identifier if it only contains alphanumeric letters (a-z) and (0-9), or underscores (_).\n",
    "A valid identifier cannot start with a number, or contain any spaces.\n",
    "*islower*\n",
    "returns True if all the characters are in lower case, otherwise False.\n",
    "*isnumeric*\n",
    "returns True if all the characters are numeric (0-9), otherwise False.\n",
    "*isprintable*\n",
    "method returns True if all the characters are printable, otherwise False.\n",
    "*isspace* \n",
    "returns True if all the characters in a string are whitespaces, otherwise False.\n",
    "*istitle*\n",
    "returns True if all words in a text start with a upper case letter, AND \n",
    "the rest of the word are lower case letters, otherwise False. \n",
    "*isupper*\n",
    "returns True if all the characters are in upper case, otherwise False."
   ]
  },
  {
   "cell_type": "code",
   "execution_count": 59,
   "id": "d007c6f3",
   "metadata": {},
   "outputs": [
    {
     "name": "stdout",
     "output_type": "stream",
     "text": [
      "True\n",
      "True\n",
      "True\n",
      "False\n",
      "True\n",
      "True\n",
      "True\n",
      "True\n",
      "True\n",
      "False\n",
      "False\n",
      "True\n"
     ]
    }
   ],
   "source": [
    "string=\"affan\"\n",
    "dec=\"1.5\"\n",
    "num=\"20\"\n",
    "space=\"Affan arif\"\n",
    "uppr=\"AFFAN\"\n",
    "print(string.isalnum())\n",
    "print(string.isalpha())\n",
    "print(string.isascii())\n",
    "print(dec.isdecimal())\n",
    "print(num.isdigit())\n",
    "print(string.isidentifier())\n",
    "print(string.islower())\n",
    "print(num.isnumeric())\n",
    "print(string.isprintable())\n",
    "print(space.isspace())\n",
    "print(space.istitle())\n",
    "print(uppr.isupper())"
   ]
  },
  {
   "cell_type": "markdown",
   "id": "b9775658",
   "metadata": {},
   "source": [
    "*join*\n",
    "method takes all items in an iterable and joins them into one string.\n",
    "A string must be specified as the separator."
   ]
  },
  {
   "cell_type": "code",
   "execution_count": 5,
   "id": "68c55254",
   "metadata": {},
   "outputs": [
    {
     "name": "stdout",
     "output_type": "stream",
     "text": [
      "muhammadaffanarif\n"
     ]
    }
   ],
   "source": [
    "firstn ={\"muhammad\",\"arif\"}\n",
    "sn=\"affan\"\n",
    "a=sn.join(firstn)\n",
    "\n",
    "print(a)"
   ]
  },
  {
   "cell_type": "markdown",
   "id": "8317ed3e",
   "metadata": {},
   "source": [
    "*ljust*\n",
    " method will left align the string, using a specified character (space is default) as the fill character.\n",
    "*rjust*\n",
    "method will right align the string, using a specified character (space is default) as the fill character."
   ]
  },
  {
   "cell_type": "code",
   "execution_count": 18,
   "id": "a76bad56",
   "metadata": {},
   "outputs": [
    {
     "name": "stdout",
     "output_type": "stream",
     "text": [
      "affan*****\n",
      "*****affan\n"
     ]
    }
   ],
   "source": [
    "txt=\"affan\"\n",
    "a= txt.ljust(10, \"*\")\n",
    "b= txt.rjust(10, \"*\")\n",
    "print(a)\n",
    "print(b)"
   ]
  },
  {
   "cell_type": "markdown",
   "id": "0cd798a8",
   "metadata": {},
   "source": [
    "*lower* is a built-in Python method primarily used for string handling"
   ]
  },
  {
   "cell_type": "code",
   "execution_count": 10,
   "id": "577ac9e4",
   "metadata": {},
   "outputs": [
    {
     "name": "stdout",
     "output_type": "stream",
     "text": [
      "affan\n"
     ]
    }
   ],
   "source": [
    "uppr=\"AFFAN\"\n",
    "a=uppr.lower()\n",
    "print(a)"
   ]
  },
  {
   "cell_type": "markdown",
   "id": "c10ea4ba",
   "metadata": {},
   "source": [
    "*lstrip* \n",
    "method removes any leading characters (space is the default leading character to remove)\n",
    "*strip*\n",
    "method removes any leading (spaces at the beginning) and trailing (spaces at the end) characters (space is the default leading character to remove)\n",
    "*rstrip*\n",
    "method removes any trailing characters (characters at the end a string), space is the default trailing character to remove.\n"
   ]
  },
  {
   "cell_type": "code",
   "execution_count": 28,
   "id": "854fb92d",
   "metadata": {},
   "outputs": [
    {
     "name": "stdout",
     "output_type": "stream",
     "text": [
      "i work on c,java but python is best programming language\n",
      "i work on c,java but python is best programming language\n",
      "i work on c,java but python is best programming language\n"
     ]
    }
   ],
   "source": [
    "p=\"python\"\n",
    "a = p.lstrip()\n",
    "b = p.strip()\n",
    "c = p.rstrip()\n",
    "print(\"i work on c,java but\",a,\"is best programming language\")\n",
    "print(\"i work on c,java but\",b,\"is best programming language\")\n",
    "print(\"i work on c,java but\",c,\"is best programming language\")"
   ]
  },
  {
   "cell_type": "markdown",
   "id": "41007986",
   "metadata": {},
   "source": [
    "*maketrans*\n",
    "method returns a mapping table that can be used with the translate() method to replace specified characters."
   ]
  },
  {
   "cell_type": "code",
   "execution_count": 2,
   "id": "78b1d46f",
   "metadata": {},
   "outputs": [
    {
     "name": "stdout",
     "output_type": "stream",
     "text": [
      "aFFaM\n"
     ]
    }
   ],
   "source": [
    "uppr=\"AFFAN\"\n",
    "maptable = str.maketrans(\"AN\", \"aM\")\n",
    "print(uppr.translate(maptable))"
   ]
  },
  {
   "cell_type": "markdown",
   "id": "5d4388b0",
   "metadata": {},
   "source": [
    "*partition*\n",
    "method searches for a specified string, and splits the string into a tuple containing three elements.\n",
    "*rpartition*\n",
    "method searches for the last occurrence of a specified string, and splits the string into a tuple containing three elements.\n",
    "The first element contains the part before the specified string.\n",
    "The second element contains the specified string.\n",
    "The third element contains the part after the string."
   ]
  },
  {
   "cell_type": "code",
   "execution_count": 20,
   "id": "252e58bb",
   "metadata": {},
   "outputs": [
    {
     "name": "stdout",
     "output_type": "stream",
     "text": [
      "('I love codin', 'g', '')\n",
      "('I love codin', 'g', '')\n"
     ]
    }
   ],
   "source": [
    "coding = \"I love coding\"\n",
    "a = coding.partition(\"love\")\n",
    "b = coding.rpartition(\"love\")\n",
    "print(a)\n",
    "print(b)"
   ]
  },
  {
   "cell_type": "markdown",
   "id": "394d8dad",
   "metadata": {},
   "source": [
    "*removeprefix*\n",
    "function removes the prefix and returns the rest of the string.\n",
    "If the prefix string is not found, then it returns the original string.\n",
    "*removeprefix(suffix, /)*\n",
    "function removes the suffix and returns the rest of the string. \n",
    "If the suffix string is not found then it returns the original string"
   ]
  },
  {
   "cell_type": "code",
   "execution_count": 15,
   "id": "dc9454c9",
   "metadata": {},
   "outputs": [
    {
     "name": "stdout",
     "output_type": "stream",
     "text": [
      "Original String 1 before prefix and suffix exists :  affan arif\n",
      "New string in prefix :   arif\n",
      "New string in suffix:  affan \n",
      "Original String 2 before prefix and suffix doesn't exist :  hamza arif\n",
      "New string in prefix:  hamza arif\n",
      "New string in suffix:  hamza arif\n"
     ]
    }
   ],
   "source": [
    "string1 = \"affan arif\"\n",
    "print(\"Original String 1 before prefix and suffix exists : \", string1)\n",
    "\n",
    "# prefix exists\n",
    "result = string1.removeprefix(\"affan\")\n",
    "result1 = string1.removesuffix(\"arif\")\n",
    "print(\"New string in prefix : \", result)\n",
    "print(\"New string in suffix: \", result1)\n",
    "   \n",
    "string2 = \"hamza arif\"\n",
    "print(\"Original String 2 before prefix and suffix doesn't exist : \", string2)\n",
    "   \n",
    "# prefix doesn't exist\n",
    "result = string2.removeprefix(\"arif\")\n",
    "result1 = string2.removesuffix(\"hamza\")\n",
    "print(\"New string in prefix: \", result)\n",
    "print(\"New string in suffix: \", result1)"
   ]
  },
  {
   "cell_type": "markdown",
   "id": "51981bed",
   "metadata": {},
   "source": [
    "*replace* \n",
    "method replaces a specified phrase with another specified phrase"
   ]
  },
  {
   "cell_type": "code",
   "execution_count": 16,
   "id": "d7992636",
   "metadata": {},
   "outputs": [
    {
     "name": "stdout",
     "output_type": "stream",
     "text": [
      "I love coding\n"
     ]
    }
   ],
   "source": [
    "coding = \"I hate coding\"\n",
    "a = coding.replace(\"hate\",\"love\")\n",
    "print(a)"
   ]
  },
  {
   "cell_type": "code",
   "execution_count": null,
   "id": "0eb54e6a",
   "metadata": {},
   "outputs": [],
   "source": [
    "*rfind* \n",
    "method is almost the same as the rindex() method"
   ]
  },
  {
   "cell_type": "code",
   "execution_count": 17,
   "id": "0bf0652f",
   "metadata": {},
   "outputs": [
    {
     "name": "stdout",
     "output_type": "stream",
     "text": [
      "9\n",
      "9\n",
      "-1\n"
     ]
    },
    {
     "ename": "ValueError",
     "evalue": "substring not found",
     "output_type": "error",
     "traceback": [
      "\u001b[1;31m---------------------------------------------------------------------------\u001b[0m",
      "\u001b[1;31mValueError\u001b[0m                                Traceback (most recent call last)",
      "\u001b[1;32m~\\AppData\\Local\\Temp\\ipykernel_6432\\2738536934.py\u001b[0m in \u001b[0;36m<module>\u001b[1;34m\u001b[0m\n\u001b[0;32m      3\u001b[0m \u001b[0mprint\u001b[0m\u001b[1;33m(\u001b[0m\u001b[0mname\u001b[0m\u001b[1;33m.\u001b[0m\u001b[0mrindex\u001b[0m\u001b[1;33m(\u001b[0m\u001b[1;34m\"f\"\u001b[0m\u001b[1;33m)\u001b[0m\u001b[1;33m)\u001b[0m\u001b[1;33m\u001b[0m\u001b[1;33m\u001b[0m\u001b[0m\n\u001b[0;32m      4\u001b[0m \u001b[0mprint\u001b[0m\u001b[1;33m(\u001b[0m\u001b[0mname\u001b[0m\u001b[1;33m.\u001b[0m\u001b[0mrfind\u001b[0m\u001b[1;33m(\u001b[0m\u001b[1;34m\"q\"\u001b[0m\u001b[1;33m)\u001b[0m\u001b[1;33m)\u001b[0m\u001b[1;33m\u001b[0m\u001b[1;33m\u001b[0m\u001b[0m\n\u001b[1;32m----> 5\u001b[1;33m \u001b[0mprint\u001b[0m\u001b[1;33m(\u001b[0m\u001b[0mname\u001b[0m\u001b[1;33m.\u001b[0m\u001b[0mrindex\u001b[0m\u001b[1;33m(\u001b[0m\u001b[1;34m\"q\"\u001b[0m\u001b[1;33m)\u001b[0m\u001b[1;33m)\u001b[0m\u001b[1;33m\u001b[0m\u001b[1;33m\u001b[0m\u001b[0m\n\u001b[0m",
      "\u001b[1;31mValueError\u001b[0m: substring not found"
     ]
    }
   ],
   "source": [
    "name = \"affan arif\"\n",
    "print(name.rfind(\"f\"))\n",
    "print(name.rindex(\"f\"))\n",
    "print(name.rfind(\"q\"))\n",
    "print(name.rindex(\"q\"))"
   ]
  },
  {
   "cell_type": "code",
   "execution_count": null,
   "id": "da1d1cb3",
   "metadata": {},
   "outputs": [],
   "source": [
    "*splitlines* method splits a string into a list. The splitting is done at line breaks."
   ]
  },
  {
   "cell_type": "code",
   "execution_count": 27,
   "id": "1844ab08",
   "metadata": {},
   "outputs": [
    {
     "name": "stdout",
     "output_type": "stream",
     "text": [
      "['I love', ' coding']\n"
     ]
    }
   ],
   "source": [
    "\n",
    "coding = \"I love\\n coding\"\n",
    "x = coding.splitlines()\n",
    "\n",
    "print(x)"
   ]
  },
  {
   "cell_type": "markdown",
   "id": "e0833280",
   "metadata": {},
   "source": [
    "*split*\n",
    "* rsplit*\n",
    " method splits a string into a list, starting from the right.\n",
    "\n",
    "If no \"max\" is specified, this method will return the same as the split() method."
   ]
  },
  {
   "cell_type": "code",
   "execution_count": 24,
   "id": "551f7fd9",
   "metadata": {},
   "outputs": [
    {
     "name": "stdout",
     "output_type": "stream",
     "text": [
      "I ,love  , coding\n",
      "['I ,love  ', 'coding']\n",
      "['I ,love  ', 'coding']\n"
     ]
    }
   ],
   "source": [
    "coding = \"I ,love  , coding\"\n",
    "\n",
    "coding_split = coding.split(\", \", 1)\n",
    "print(coding)\n",
    "coding_rsplit = coding.rsplit(\", \", 1)\n",
    "print(coding_split)\n",
    "print(coding_rsplit)"
   ]
  },
  {
   "cell_type": "code",
   "execution_count": null,
   "id": "07ec6b4e",
   "metadata": {},
   "outputs": [],
   "source": [
    "*zfill* method adds zeros (0) at the beginning of the string, until it reaches the specified length.\n",
    "If the value of the len parameter is less than the length of the string, no filling is done.\n",
    "*title* \n",
    "method returns a string where the first character in every word is upper case. Like a header, or a title.\n",
    "*swapcase*\n",
    "returns a string where all the upper case letters are lower case and vice versa"
   ]
  },
  {
   "cell_type": "code",
   "execution_count": 33,
   "id": "1627460d",
   "metadata": {},
   "outputs": [
    {
     "name": "stdout",
     "output_type": "stream",
     "text": [
      "000.115\n",
      "Python\n",
      "aFfAn AriF\n"
     ]
    }
   ],
   "source": [
    "name= \"python\"\n",
    "name1=\"AfFaN aRIf\"\n",
    "point=\".115\"\n",
    "a= point.zfill(7)\n",
    "b = name.title()\n",
    "c = name1.swapcase()\n",
    "print(a)\n",
    "print(b)\n",
    "print(c)"
   ]
  },
  {
   "cell_type": "code",
   "execution_count": null,
   "id": "8479c478",
   "metadata": {},
   "outputs": [],
   "source": []
  }
 ],
 "metadata": {
  "kernelspec": {
   "display_name": "Python 3 (ipykernel)",
   "language": "python",
   "name": "python3"
  },
  "language_info": {
   "codemirror_mode": {
    "name": "ipython",
    "version": 3
   },
   "file_extension": ".py",
   "mimetype": "text/x-python",
   "name": "python",
   "nbconvert_exporter": "python",
   "pygments_lexer": "ipython3",
   "version": "3.9.13"
  }
 },
 "nbformat": 4,
 "nbformat_minor": 5
}
