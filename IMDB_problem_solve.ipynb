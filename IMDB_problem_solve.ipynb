{
  "cells": [
    {
      "cell_type": "markdown",
      "metadata": {
        "id": "view-in-github",
        "colab_type": "text"
      },
      "source": [
        "<a href=\"https://colab.research.google.com/github/Afanarif/AI-smit-1/blob/main/IMDB_problem_solve.ipynb\" target=\"_parent\"><img src=\"https://colab.research.google.com/assets/colab-badge.svg\" alt=\"Open In Colab\"/></a>"
      ]
    },
    {
      "cell_type": "markdown",
      "metadata": {
        "id": "2olKCq89R-SC"
      },
      "source": [
        "### 3.4.1 The IMDB dataset"
      ]
    },
    {
      "cell_type": "markdown",
      "metadata": {
        "id": "IYL_f0MKR-SK"
      },
      "source": [
        "- Samples 50,000 review samples\n",
        "- 25,000 for training and 25,000 for testing\n",
        "- 50% Negative and 50% positive Reviews\n",
        "- Available in Kears pre data sets\n",
        "- pre converted in Vector numbers where each number replace spacifice word :)\n",
        "- 80 Mb data size download when you first run otherwise you can see this data set file in .keras folder"
      ]
    },
    {
      "cell_type": "markdown",
      "metadata": {
        "id": "g_I-kkF6R-SN"
      },
      "source": [
        "#### Listing 3.1 Loading the IMDB dataset"
      ]
    },
    {
      "cell_type": "code",
      "execution_count": null,
      "metadata": {
        "colab": {
          "base_uri": "https://localhost:8080/"
        },
        "id": "WSeqM8m0R-SO",
        "outputId": "85c76492-bb8c-437c-b12f-a50f6aa7f212"
      },
      "outputs": [
        {
          "name": "stdout",
          "output_type": "stream",
          "text": [
            "Downloading data from https://storage.googleapis.com/tensorflow/tf-keras-datasets/imdb.npz\n",
            "17464789/17464789 [==============================] - 0s 0us/step\n"
          ]
        }
      ],
      "source": [
        "from tensorflow.keras.datasets import imdb\n",
        "(train_data, train_labels), (test_data, test_labels) = imdb.load_data(num_words=10000)"
      ]
    },
    {
      "cell_type": "markdown",
      "metadata": {
        "id": "kKCwKe5wR-SU"
      },
      "source": [
        "The argument num_words=10000 means you’ll only keep the top 10,000 most frequently\n",
        "occurring words in the training data."
      ]
    },
    {
      "cell_type": "raw",
      "metadata": {
        "id": "cuyAmrhDR-SV"
      },
      "source": [
        " 0    1   2   3       4  5  6\n",
        "[we love our country. i am pakistani]\n",
        "\n",
        "# encode message\n",
        "[013] [we love country] (len=3)\n",
        "[56321] [am pakistani country our love] (len=5)\n",
        "\n",
        "#onehotEncode\n",
        "[013]   = [1,1,0,1,0,0,0] (len=7)\n",
        "[56321] = [0,1,1,1,0,1,1] (len=7)"
      ]
    },
    {
      "cell_type": "code",
      "execution_count": null,
      "metadata": {
        "colab": {
          "base_uri": "https://localhost:8080/"
        },
        "id": "H2R0RSbmR-SW",
        "outputId": "42dff1ba-6896-4a0d-e713-ebbbfa393624"
      },
      "outputs": [
        {
          "name": "stdout",
          "output_type": "stream",
          "text": [
            "X:\n",
            " [1, 14, 22, 16, 43, 530, 973, 1622, 1385, 65, 458, 4468, 66, 3941, 4, 173, 36, 256, 5, 25, 100, 43, 838, 112, 50, 670, 2, 9, 35, 480, 284, 5, 150, 4, 172, 112, 167, 2, 336, 385, 39, 4, 172, 4536, 1111, 17, 546, 38, 13, 447, 4, 192, 50, 16, 6, 147, 2025, 19, 14, 22, 4, 1920, 4613, 469, 4, 22, 71, 87, 12, 16, 43, 530, 38, 76, 15, 13, 1247, 4, 22, 17, 515, 17, 12, 16, 626, 18, 2, 5, 62, 386, 12, 8, 316, 8, 106, 5, 4, 2223, 5244, 16, 480, 66, 3785, 33, 4, 130, 12, 16, 38, 619, 5, 25, 124, 51, 36, 135, 48, 25, 1415, 33, 6, 22, 12, 215, 28, 77, 52, 5, 14, 407, 16, 82, 2, 8, 4, 107, 117, 5952, 15, 256, 4, 2, 7, 3766, 5, 723, 36, 71, 43, 530, 476, 26, 400, 317, 46, 7, 4, 2, 1029, 13, 104, 88, 4, 381, 15, 297, 98, 32, 2071, 56, 26, 141, 6, 194, 7486, 18, 4, 226, 22, 21, 134, 476, 26, 480, 5, 144, 30, 5535, 18, 51, 36, 28, 224, 92, 25, 104, 4, 226, 65, 16, 38, 1334, 88, 12, 16, 283, 5, 16, 4472, 113, 103, 32, 15, 16, 5345, 19, 178, 32]\n",
            "Y:\n",
            " 1\n"
          ]
        }
      ],
      "source": [
        "print(\"X:\\n\",train_data[0])\n",
        "print(\"Y:\\n\",train_labels[0])"
      ]
    },
    {
      "cell_type": "code",
      "execution_count": null,
      "metadata": {
        "colab": {
          "base_uri": "https://localhost:8080/"
        },
        "id": "EYTh1EXIR-SY",
        "outputId": "2957c5d9-9130-4f4b-f41b-b1667ffda254"
      },
      "outputs": [
        {
          "name": "stdout",
          "output_type": "stream",
          "text": [
            "218\n",
            "189\n"
          ]
        }
      ],
      "source": [
        "print(len(train_data[0]))\n",
        "print(len(train_data[1]))"
      ]
    },
    {
      "cell_type": "markdown",
      "metadata": {
        "id": "OqwviRzAR-SZ"
      },
      "source": [
        "Because you’re restricting yourself to the top 10,000 most frequent words, no word\n",
        "index will exceed 10,000:"
      ]
    },
    {
      "cell_type": "code",
      "execution_count": null,
      "metadata": {
        "colab": {
          "base_uri": "https://localhost:8080/"
        },
        "id": "6atucIq0R-Sa",
        "outputId": "f087db35-0c66-425d-ed91-805af60892ac"
      },
      "outputs": [
        {
          "data": {
            "text/plain": [
              "9999"
            ]
          },
          "execution_count": 4,
          "metadata": {},
          "output_type": "execute_result"
        }
      ],
      "source": [
        "max([max(sequence) for sequence in train_data])"
      ]
    },
    {
      "cell_type": "code",
      "execution_count": null,
      "metadata": {
        "colab": {
          "base_uri": "https://localhost:8080/"
        },
        "id": "Bn_mLYeAR-Sb",
        "outputId": "8e8ddd5f-6a61-4224-f11c-f2054226f6f4"
      },
      "outputs": [
        {
          "name": "stdout",
          "output_type": "stream",
          "text": [
            "Downloading data from https://storage.googleapis.com/tensorflow/tf-keras-datasets/imdb_word_index.json\n",
            "1641221/1641221 [==============================] - 0s 0us/step\n"
          ]
        }
      ],
      "source": [
        "word_index = imdb.get_word_index()\n",
        "\n",
        "reverse_word_index = dict(\n",
        "    [(value, key) for (key, value) in word_index.items()])\n",
        "\n",
        "\n",
        "decoded_review = ' '.join(\n",
        "    [reverse_word_index.get(i - 3, '?') for i in train_data[0]])"
      ]
    },
    {
      "cell_type": "code",
      "execution_count": null,
      "metadata": {
        "colab": {
          "base_uri": "https://localhost:8080/",
          "height": 139
        },
        "id": "sW4VjYHFR-Sd",
        "outputId": "e15d1bbe-0a88-4234-e436-b93be5b2402f"
      },
      "outputs": [
        {
          "data": {
            "application/vnd.google.colaboratory.intrinsic+json": {
              "type": "string"
            },
            "text/plain": [
              "\"? this film was just brilliant casting location scenery story direction everyone's really suited the part they played and you could just imagine being there robert ? is an amazing actor and now the same being director ? father came from the same scottish island as myself so i loved the fact there was a real connection with this film the witty remarks throughout the film were great it was just brilliant so much that i bought the film as soon as it was released for ? and would recommend it to everyone to watch and the fly fishing was amazing really cried at the end it was so sad and you know what they say if you cry at a film it must have been good and this definitely was also ? to the two little boy's that played the ? of norman and paul they were just brilliant children are often left out of the ? list i think because the stars that play them all grown up are such a big profile for the whole film but these children are amazing and should be praised for what they have done don't you think the whole story was so lovely because it was true and was someone's life after all that was shared with us all\""
            ]
          },
          "execution_count": 6,
          "metadata": {},
          "output_type": "execute_result"
        }
      ],
      "source": [
        "decoded_review"
      ]
    },
    {
      "cell_type": "raw",
      "metadata": {
        "id": "5qIATeMaR-Se"
      },
      "source": [
        "word_index\n",
        "\n",
        "# {'fawn': 34701,\n",
        "#  'tsukino': 52006,\n",
        "#  'nunnery': 52007,\n",
        "#  'sonja': 16816}"
      ]
    },
    {
      "cell_type": "code",
      "execution_count": null,
      "metadata": {
        "colab": {
          "base_uri": "https://localhost:8080/"
        },
        "id": "ICT__lnHR-Sf",
        "outputId": "959425ea-e656-4ef7-8246-a6d959aa5d42"
      },
      "outputs": [
        {
          "name": "stdout",
          "output_type": "stream",
          "text": [
            "\n",
            "{34701: 'fawn',\n",
            " 52006: 'tsukino',\n",
            " 52007: 'nunnery',\n",
            " 16816: 'sonja'}\n",
            "\n"
          ]
        }
      ],
      "source": [
        "# reverse_word_index\n",
        "print('''\n",
        "{34701: 'fawn',\n",
        " 52006: 'tsukino',\n",
        " 52007: 'nunnery',\n",
        " 16816: 'sonja'}\n",
        "''')"
      ]
    },
    {
      "cell_type": "raw",
      "metadata": {
        "id": "7-7IsxumR-Sg"
      },
      "source": [
        "  0     1        2           3\n",
        "[good very_good excellent brilliant]\n",
        "\n",
        " 0 1 2   3     4         5         6\n",
        "[A,B,C, good very_good excellent brilliant]\n",
        "\n",
        "\n",
        "[798][VERY_good,brilliant, excellent]\n",
        "\n",
        "\n",
        "[3,2][brilliant excellent](len2)\n",
        "\n",
        "[1,3,2][very_good brilliant excellent](len3)\n",
        "\n",
        "one-hot-encode\n",
        "[3,2] = [0,0,1,1] (len3)\n",
        "[1,3,2] = [0,1,1,1] (len(3))\n"
      ]
    },
    {
      "cell_type": "code",
      "execution_count": null,
      "metadata": {
        "colab": {
          "base_uri": "https://localhost:8080/",
          "height": 157
        },
        "id": "0i6rqEO-R-Sh",
        "outputId": "5a11ce79-600a-4eb3-f4d7-8e71ee7d063b"
      },
      "outputs": [
        {
          "name": "stdout",
          "output_type": "stream",
          "text": [
            "1\n"
          ]
        },
        {
          "data": {
            "application/vnd.google.colaboratory.intrinsic+json": {
              "type": "string"
            },
            "text/plain": [
              "\"? this film was just brilliant casting location scenery story direction everyone's really suited the part they played and you could just imagine being there robert ? is an amazing actor and now the same being director ? father came from the same scottish island as myself so i loved the fact there was a real connection with this film the witty remarks throughout the film were great it was just brilliant so much that i bought the film as soon as it was released for ? and would recommend it to everyone to watch and the fly fishing was amazing really cried at the end it was so sad and you know what they say if you cry at a film it must have been good and this definitely was also ? to the two little boy's that played the ? of norman and paul they were just brilliant children are often left out of the ? list i think because the stars that play them all grown up are such a big profile for the whole film but these children are amazing and should be praised for what they have done don't you think the whole story was so lovely because it was true and was someone's life after all that was shared with us all\""
            ]
          },
          "execution_count": 8,
          "metadata": {},
          "output_type": "execute_result"
        }
      ],
      "source": [
        "print(train_labels[0])\n",
        "decoded_review"
      ]
    },
    {
      "cell_type": "markdown",
      "metadata": {
        "id": "qxlkVcqrR-Si"
      },
      "source": [
        "### 3.4.2 Preparing the data"
      ]
    },
    {
      "cell_type": "markdown",
      "metadata": {
        "id": "FK_iqkbvR-Sk"
      },
      "source": [
        "- each sample length are differents but our network accept spacific shape size tensor\n",
        "- we have to convert each sample into equal size of tensor apply vectorization technics like one-hot-encode"
      ]
    },
    {
      "cell_type": "markdown",
      "metadata": {
        "id": "85Nw-a3KR-Sl"
      },
      "source": [
        "#### Listing 3.2 Encoding the integer sequences into a binary matrix"
      ]
    },
    {
      "cell_type": "code",
      "execution_count": null,
      "metadata": {
        "id": "XF6UsIRPR-Sm"
      },
      "outputs": [],
      "source": [
        "import numpy as np\n",
        "def vectorize_sequences(sequences, dimension=10000):\n",
        "    results = np.zeros((len(sequences), dimension))\n",
        "    for i, sequence in enumerate(sequences):\n",
        "        results[i, sequence] = 1.\n",
        "    return results\n",
        "\n",
        "x_train = vectorize_sequences(train_data)\n",
        "x_test = vectorize_sequences(test_data)"
      ]
    },
    {
      "cell_type": "code",
      "execution_count": null,
      "metadata": {
        "colab": {
          "base_uri": "https://localhost:8080/",
          "height": 52
        },
        "id": "vUfpuLkRR-Sn",
        "outputId": "4f924337-9f2c-42d8-e9d9-8200e517e301"
      },
      "outputs": [
        {
          "data": {
            "text/plain": [
              "array([0., 1., 1., ..., 0., 0., 0.])"
            ]
          },
          "metadata": {},
          "output_type": "display_data"
        },
        {
          "name": "stdout",
          "output_type": "stream",
          "text": [
            "10000\n"
          ]
        }
      ],
      "source": [
        "display(x_train[1])\n",
        "print(len(x_train[0]))\n"
      ]
    },
    {
      "cell_type": "markdown",
      "metadata": {
        "id": "k_4ZVyCrR-Sp"
      },
      "source": [
        "#### You should also vectorize your labels, which is straightforward:\n"
      ]
    },
    {
      "cell_type": "code",
      "execution_count": null,
      "metadata": {
        "id": "JcNLa40UR-Sq"
      },
      "outputs": [],
      "source": [
        "y_train = np.asarray(train_labels).astype('float32')\n",
        "y_test = np.asarray(test_labels).astype('float32')"
      ]
    },
    {
      "cell_type": "code",
      "execution_count": null,
      "metadata": {
        "colab": {
          "base_uri": "https://localhost:8080/"
        },
        "id": "0HRRxeH5R-Sr",
        "outputId": "a7a628a0-73b2-48ed-ff1b-c0809b0151d1"
      },
      "outputs": [
        {
          "data": {
            "text/plain": [
              "1.0"
            ]
          },
          "execution_count": 12,
          "metadata": {},
          "output_type": "execute_result"
        }
      ],
      "source": [
        "y_train[0]"
      ]
    },
    {
      "cell_type": "markdown",
      "metadata": {
        "id": "-XA3YgpCR-St"
      },
      "source": [
        "### 3.4.3 Building your network"
      ]
    },
    {
      "cell_type": "markdown",
      "metadata": {
        "id": "o9kte-6gR-Su"
      },
      "source": [
        "#### Listing 3.3 The model definition"
      ]
    },
    {
      "cell_type": "code",
      "execution_count": null,
      "metadata": {
        "id": "5msKmEJkR-Su"
      },
      "outputs": [],
      "source": [
        "from tensorflow.keras import models\n",
        "from tensorflow.keras import layers\n",
        "model = models.Sequential()\n",
        "model.add(layers.Dense(16, activation='relu', input_shape=(10000,)))\n",
        "model.add(layers.Dense(16, activation='relu'))\n",
        "model.add(layers.Dense(1, activation='sigmoid'))"
      ]
    },
    {
      "cell_type": "markdown",
      "metadata": {
        "id": "0amEAGN2R-Sv"
      },
      "source": [
        "### compilation steps\n",
        "- Loss function (binary_crossentropy,mean_squared_error) but binary_crossentropy is best"
      ]
    },
    {
      "cell_type": "markdown",
      "metadata": {
        "id": "eeeddHAdR-Sw"
      },
      "source": [
        "#### Listing 3.4 Compiling the model"
      ]
    },
    {
      "cell_type": "code",
      "execution_count": null,
      "metadata": {
        "id": "Bs-Nq-UaR-Sw"
      },
      "outputs": [],
      "source": [
        "model.compile(optimizer='rmsprop',\n",
        "              loss='binary_crossentropy',\n",
        "              metrics=['accuracy'])"
      ]
    },
    {
      "cell_type": "markdown",
      "metadata": {
        "id": "Ow86q_OZR-Sx"
      },
      "source": [
        "#### 3.4.4 Validating your approach"
      ]
    },
    {
      "cell_type": "code",
      "execution_count": null,
      "metadata": {
        "id": "o1oTXMXhR-Sx"
      },
      "outputs": [],
      "source": [
        "x_val = x_train[:10000]\n",
        "partial_x_train = x_train[10000:]"
      ]
    },
    {
      "cell_type": "code",
      "execution_count": null,
      "metadata": {
        "id": "GzfB1Mj9R-Sy"
      },
      "outputs": [],
      "source": [
        "y_val = y_train[:10000]\n",
        "partial_y_train = y_train[10000:]"
      ]
    },
    {
      "cell_type": "markdown",
      "metadata": {
        "id": "4co_z4ACR-Sy"
      },
      "source": [
        "#### Listing 3.8 Training your model"
      ]
    },
    {
      "cell_type": "code",
      "execution_count": null,
      "metadata": {
        "colab": {
          "background_save": true,
          "base_uri": "https://localhost:8080/"
        },
        "id": "1Zbbk3EwR-Sy",
        "outputId": "b80e41bb-b550-4c50-9f53-02179e2ed126"
      },
      "outputs": [
        {
          "name": "stdout",
          "output_type": "stream",
          "text": [
            "Epoch 1/20\n",
            "118/118 [==============================] - 3s 19ms/step - loss: 0.3920 - acc: 0.8441 - val_loss: 0.3502 - val_acc: 0.8503\n",
            "Epoch 2/20\n",
            "118/118 [==============================] - 2s 16ms/step - loss: 0.2134 - acc: 0.9206 - val_loss: 0.3026 - val_acc: 0.8764\n",
            "Epoch 3/20\n",
            "118/118 [==============================] - 2s 15ms/step - loss: 0.1568 - acc: 0.9433 - val_loss: 0.3016 - val_acc: 0.8806\n",
            "Epoch 4/20\n",
            "118/118 [==============================] - 1s 11ms/step - loss: 0.1206 - acc: 0.9574 - val_loss: 0.3261 - val_acc: 0.8807\n",
            "Epoch 5/20\n",
            "118/118 [==============================] - 2s 14ms/step - loss: 0.0930 - acc: 0.9688 - val_loss: 0.3730 - val_acc: 0.8773\n",
            "Epoch 6/20\n",
            "118/118 [==============================] - 1s 11ms/step - loss: 0.0686 - acc: 0.9784 - val_loss: 0.4268 - val_acc: 0.8721\n",
            "Epoch 7/20\n",
            "118/118 [==============================] - 1s 11ms/step - loss: 0.0509 - acc: 0.9834 - val_loss: 0.4810 - val_acc: 0.8674\n",
            "Epoch 8/20\n",
            "118/118 [==============================] - 1s 11ms/step - loss: 0.0364 - acc: 0.9886 - val_loss: 0.5279 - val_acc: 0.8694\n",
            "Epoch 9/20\n",
            "118/118 [==============================] - 1s 11ms/step - loss: 0.0245 - acc: 0.9933 - val_loss: 0.6198 - val_acc: 0.8581\n",
            "Epoch 10/20\n",
            "118/118 [==============================] - 1s 11ms/step - loss: 0.0160 - acc: 0.9962 - val_loss: 0.6561 - val_acc: 0.8650\n",
            "Epoch 11/20\n",
            "118/118 [==============================] - 2s 14ms/step - loss: 0.0090 - acc: 0.9982 - val_loss: 0.7209 - val_acc: 0.8658\n",
            "Epoch 12/20\n",
            "118/118 [==============================] - 2s 18ms/step - loss: 0.0060 - acc: 0.9988 - val_loss: 0.7876 - val_acc: 0.8651\n",
            "Epoch 13/20\n",
            "118/118 [==============================] - 1s 11ms/step - loss: 0.0033 - acc: 0.9995 - val_loss: 0.8615 - val_acc: 0.8637\n",
            "Epoch 14/20\n",
            "118/118 [==============================] - 1s 11ms/step - loss: 0.0025 - acc: 0.9995 - val_loss: 0.9110 - val_acc: 0.8639\n",
            "Epoch 15/20\n",
            "118/118 [==============================] - 2s 13ms/step - loss: 0.0011 - acc: 0.9999 - val_loss: 0.9880 - val_acc: 0.8631\n",
            "Epoch 16/20\n",
            "118/118 [==============================] - 1s 10ms/step - loss: 7.7139e-04 - acc: 0.9999 - val_loss: 1.0709 - val_acc: 0.8611\n",
            "Epoch 17/20\n",
            "118/118 [==============================] - 1s 10ms/step - loss: 7.5396e-04 - acc: 0.9999 - val_loss: 1.1110 - val_acc: 0.8637\n",
            "Epoch 18/20\n",
            "118/118 [==============================] - 1s 11ms/step - loss: 1.9024e-04 - acc: 1.0000 - val_loss: 1.1649 - val_acc: 0.8627\n",
            "Epoch 19/20\n",
            "118/118 [==============================] - 1s 10ms/step - loss: 1.2179e-04 - acc: 1.0000 - val_loss: 1.2088 - val_acc: 0.8628\n",
            "Epoch 20/20\n",
            "118/118 [==============================] - 2s 15ms/step - loss: 6.7745e-05 - acc: 1.0000 - val_loss: 1.2452 - val_acc: 0.8629\n"
          ]
        }
      ],
      "source": [
        "model.compile(optimizer='rmsprop',\n",
        "              loss='binary_crossentropy',\n",
        "              metrics=['acc'])\n",
        "\n",
        "history = model.fit(partial_x_train,\n",
        "                    partial_y_train,\n",
        "                    epochs=20,\n",
        "                    batch_size=128,\n",
        "                    validation_data=(x_val, y_val))"
      ]
    },
    {
      "cell_type": "code",
      "execution_count": null,
      "metadata": {
        "colab": {
          "background_save": true
        },
        "id": "vJbZ8cULR-Sz",
        "outputId": "01f1e4be-e9d2-4fdd-f257-f30636f44606"
      },
      "outputs": [
        {
          "data": {
            "text/plain": [
              "dict_keys(['loss', 'acc', 'val_loss', 'val_acc'])"
            ]
          },
          "execution_count": 18,
          "metadata": {},
          "output_type": "execute_result"
        }
      ],
      "source": [
        "history_dict = history.history\n",
        "history_dict.keys()"
      ]
    },
    {
      "cell_type": "markdown",
      "metadata": {
        "id": "0lMgtRhYR-S0"
      },
      "source": [
        "#### Listing 3.9 Plotting the training and validation loss"
      ]
    },
    {
      "cell_type": "code",
      "execution_count": null,
      "metadata": {
        "colab": {
          "background_save": true
        },
        "id": "LPauDBCcR-S0",
        "outputId": "13a648ef-8e70-4a5d-b37b-cfbefaab7529"
      },
      "outputs": [
        {
          "data": {
            "image/png": "[encoded data removed]",
            "text/plain": [
              "<Figure size 640x480 with 1 Axes>"
            ]
          },
          "metadata": {},
          "output_type": "display_data"
        }
      ],
      "source": [
        "import matplotlib.pyplot as plt\n",
        "history_dict = history.history\n",
        "\n",
        "loss_values = history_dict['loss']\n",
        "val_loss_values = history_dict['val_loss']\n",
        "epochs = np.arange(1, len(history_dict[\"acc\"]) + 1)\n",
        "plt.plot(epochs, loss_values, 'bo', label='Training loss')\n",
        "plt.plot(epochs, val_loss_values, 'b', label='Validation loss')\n",
        "plt.title('Training and validation loss')\n",
        "plt.xlabel('Epochs')\n",
        "plt.ylabel('Loss')\n",
        "plt.legend()\n",
        "plt.show()"
      ]
    },
    {
      "cell_type": "markdown",
      "metadata": {
        "id": "ytWyex4dR-S1"
      },
      "source": [
        "#### Listing 3.10 Plotting the training and validation accuracy"
      ]
    },
    {
      "cell_type": "code",
      "execution_count": null,
      "metadata": {
        "colab": {
          "background_save": true
        },
        "id": "Ehyxe93nR-S4",
        "outputId": "aeffd4f7-7e5d-473d-c30d-a564e786c3d8"
      },
      "outputs": [
        {
          "data": {
            "image/png": "[encoded data removed]",
            "text/plain": [
              "<Figure size 640x480 with 1 Axes>"
            ]
          },
          "metadata": {},
          "output_type": "display_data"
        }
      ],
      "source": [
        "plt.clf()\n",
        "acc_values = history_dict['acc']\n",
        "val_acc_values = history_dict['val_acc']\n",
        "plt.plot(epochs, history_dict[\"acc\"], 'bo', label='Training acc')\n",
        "plt.plot(epochs, history_dict[\"val_acc\"], 'b', label='Validation acc')\n",
        "plt.title('Training and validation accuracy')\n",
        "plt.xlabel('Epochs')\n",
        "plt.ylabel('Loss')\n",
        "plt.legend()\n",
        "plt.show()"
      ]
    },
    {
      "cell_type": "markdown",
      "metadata": {
        "id": "e-IZm1xhR-S5"
      },
      "source": [
        "#### Listing 3.11 Retraining a model from scratch"
      ]
    },
    {
      "cell_type": "code",
      "execution_count": null,
      "metadata": {
        "colab": {
          "background_save": true
        },
        "id": "lUnsAmP2R-S5",
        "outputId": "9f518b24-8f05-453b-98d6-2ae4fb163659"
      },
      "outputs": [
        {
          "name": "stdout",
          "output_type": "stream",
          "text": [
            "Epoch 1/4\n",
            "49/49 [==============================] - 2s 25ms/step - loss: 0.5218 - accuracy: 0.7682\n",
            "Epoch 2/4\n",
            "49/49 [==============================] - 1s 24ms/step - loss: 0.3066 - accuracy: 0.8993\n",
            "Epoch 3/4\n",
            "49/49 [==============================] - 1s 24ms/step - loss: 0.2269 - accuracy: 0.9221\n",
            "Epoch 4/4\n",
            "49/49 [==============================] - 1s 23ms/step - loss: 0.1918 - accuracy: 0.9342\n",
            "782/782 [==============================] - 2s 3ms/step - loss: 0.2872 - accuracy: 0.8863\n"
          ]
        }
      ],
      "source": [
        "model = models.Sequential()\n",
        "model.add(layers.Dense(16, activation='relu', input_shape=(10000,)))\n",
        "model.add(layers.Dense(16, activation='relu'))\n",
        "model.add(layers.Dense(1, activation='sigmoid'))\n",
        "\n",
        "model.compile(optimizer='rmsprop',\n",
        "              loss='binary_crossentropy',\n",
        "              metrics=['accuracy'])\n",
        "\n",
        "model.fit(x_train, y_train, epochs=4, batch_size=512)\n",
        "results = model.evaluate(x_test, y_test)"
      ]
    },
    {
      "cell_type": "code",
      "execution_count": null,
      "metadata": {
        "colab": {
          "background_save": true
        },
        "id": "PIeD5ISMR-S6",
        "outputId": "23c87436-9934-486d-8ef3-3ab1dff5ff3a"
      },
      "outputs": [
        {
          "data": {
            "text/plain": [
              "[0.28723448514938354, 0.8863199949264526]"
            ]
          },
          "execution_count": 22,
          "metadata": {},
          "output_type": "execute_result"
        }
      ],
      "source": [
        "results"
      ]
    },
    {
      "cell_type": "markdown",
      "metadata": {
        "id": "uuywZzNuR-S6"
      },
      "source": [
        "This fairly naive approach achieves an accuracy of 88%. With state-of-the-art\n",
        "approaches, you should be able to get close to 95%."
      ]
    },
    {
      "cell_type": "markdown",
      "metadata": {
        "id": "Vn6PZTPLR-S6"
      },
      "source": [
        "## 3.4.5 Using a trained network to generate predictions on new data"
      ]
    },
    {
      "cell_type": "code",
      "execution_count": null,
      "metadata": {
        "colab": {
          "background_save": true
        },
        "id": "BDedQCq5R-S7",
        "outputId": "1cfa55c0-8c58-46c2-ca70-8405b78465dc"
      },
      "outputs": [
        {
          "name": "stdout",
          "output_type": "stream",
          "text": [
            "782/782 [==============================] - 2s 2ms/step\n"
          ]
        },
        {
          "data": {
            "text/plain": [
              "array([[0.18432729],\n",
              "       [0.9999815 ],\n",
              "       [0.8949484 ],\n",
              "       ...,\n",
              "       [0.10991713],\n",
              "       [0.08277515],\n",
              "       [0.58881336]], dtype=float32)"
            ]
          },
          "execution_count": 23,
          "metadata": {},
          "output_type": "execute_result"
        }
      ],
      "source": [
        "model.predict(x_test)"
      ]
    },
    {
      "cell_type": "markdown",
      "metadata": {
        "id": "pqHnBIrlR-S7"
      },
      "source": [
        "## 3.4.6 Further experiments\n",
        "The following experiments will help convince you that the architecture choices you’ve\n",
        "made are all fairly reasonable, although there’s still room for improvement:\n",
        "- You used two hidden layers. Try using one or three hidden layers, and see how\n",
        "doing so affects validation and test accuracy.\n",
        "- Try using layers with more hidden units or fewer hidden units: 32 units, 64 units,\n",
        "and so on.\n",
        "- Try using the mse loss function instead of binary_crossentropy.\n",
        "- Try using the tanh activation (an activation that was popular in the early days of\n",
        "neural networks) instead of relu.\n"
      ]
    }
  ],
  "metadata": {
    "colab": {
      "provenance": [],
      "include_colab_link": true
    },
    "kernelspec": {
      "display_name": "Python 3",
      "language": "python",
      "name": "python3"
    },
    "language_info": {
      "codemirror_mode": {
        "name": "ipython",
        "version": 3
      },
      "file_extension": ".py",
      "mimetype": "text/x-python",
      "name": "python",
      "nbconvert_exporter": "python",
      "pygments_lexer": "ipython3",
      "version": "3.7.15"
    }
  },
  "nbformat": 4,
  "nbformat_minor": 0
}